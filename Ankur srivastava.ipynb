{
 "cells": [
  {
   "cell_type": "code",
   "execution_count": null,
   "metadata": {},
   "outputs": [],
   "source": [
    "#recovery rate=x\n",
    "#vaccine=y\n",
    "# My assumptions: Colleges can reopen at a stipulated time provided the recovery rate=100% or the vaccine has been developed and tried.\n",
    "#Even if the recover rate is 100% there must be no chances of second stroke. Also the time of reopening depends upon the successful human trial of the vaccine."
   ]
  },
  {
   "cell_type": "code",
   "execution_count": 3,
   "metadata": {},
   "outputs": [
    {
     "name": "stdout",
     "output_type": "stream",
     "text": [
      "Enter the recovery rate 99\n",
      "Has the vaccine been developed and successfully tried no\n",
      "It is unsafe to reopen the colleges\n"
     ]
    }
   ],
   "source": [
    "\n",
    "    x=int (input(\"Enter the recovery rate \"))\n",
    "    y=str(input(\"Has the vaccine been developed and successfully tried \"))\n",
    "    if x%100==0 and y==\"yes\":\n",
    "        print(\"It is safe to open the colleges\")\n",
    "    elif x%100!=0 or y==\"yes\":\n",
    "        print(\"It is unsafe to reopen the colleges\")\n",
    "    else:\n",
    "        print(\"Need to achieve successful human trial or full recovery\")"
   ]
  },
  {
   "cell_type": "code",
   "execution_count": null,
   "metadata": {},
   "outputs": [],
   "source": [
    "#The date of opening is any date after the above algorithm gives \"It is safe to open the colleges\""
   ]
  }
 ],
 "metadata": {
  "kernelspec": {
   "display_name": "Python 3",
   "language": "python",
   "name": "python3"
  },
  "language_info": {
   "codemirror_mode": {
    "name": "ipython",
    "version": 3
   },
   "file_extension": ".py",
   "mimetype": "text/x-python",
   "name": "python",
   "nbconvert_exporter": "python",
   "pygments_lexer": "ipython3",
   "version": "3.7.6"
  }
 },
 "nbformat": 4,
 "nbformat_minor": 4
}
